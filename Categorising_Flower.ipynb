{
  "nbformat": 4,
  "nbformat_minor": 0,
  "metadata": {
    "colab": {
      "name": "Categorising_Flower.ipynb",
      "provenance": [],
      "collapsed_sections": [],
      "authorship_tag": "ABX9TyN4vrV+3XckJx2gkE1a7HwZ",
      "include_colab_link": true
    },
    "kernelspec": {
      "name": "python3",
      "display_name": "Python 3"
    }
  },
  "cells": [
    {
      "cell_type": "markdown",
      "metadata": {
        "id": "view-in-github",
        "colab_type": "text"
      },
      "source": [
        "<a href=\"https://colab.research.google.com/github/JayasriRayana/Categorising-Flower/blob/main/Categorising_Flower.ipynb\" target=\"_parent\"><img src=\"https://colab.research.google.com/assets/colab-badge.svg\" alt=\"Open In Colab\"/></a>"
      ]
    },
    {
      "cell_type": "markdown",
      "metadata": {
        "id": "tA3Vhd4hRm6M"
      },
      "source": [
        "# Importing libraries"
      ]
    },
    {
      "cell_type": "code",
      "metadata": {
        "id": "Vd_qm5TC260i"
      },
      "source": [
        "import pandas as pd   #importing\n",
        "import numpy as np \n"
      ],
      "execution_count": null,
      "outputs": []
    },
    {
      "cell_type": "markdown",
      "metadata": {
        "id": "78OAZqDSZEnO"
      },
      "source": [
        "# Importing and assigning of load_iris"
      ]
    },
    {
      "cell_type": "code",
      "metadata": {
        "id": "CH382KViZqhM"
      },
      "source": [
        "from sklearn.datasets import load_iris\n",
        "iris_dataset=load_iris()"
      ],
      "execution_count": null,
      "outputs": []
    },
    {
      "cell_type": "markdown",
      "metadata": {
        "id": "z3T5aCXBSIDm"
      },
      "source": [
        "#Exlporing each key to know its functionality:"
      ]
    },
    {
      "cell_type": "code",
      "metadata": {
        "colab": {
          "base_uri": "https://localhost:8080/"
        },
        "id": "jbRBEOoJ6jPv",
        "outputId": "1aff21c8-e4c5-4b7f-f3a7-8653580398b3"
      },
      "source": [
        "print(iris_dataset['DESCR'][:193]+\"\\n....\") \n",
        "print(\"target names:{}\".format(iris_dataset['target_names']))   #to print species of flower\n",
        "print(\"feature names: \\n{}\".format(iris_dataset['feature_names']))  #for its features like sepals and petals length & width\n",
        "print(\"type of data:{}\".format(type(iris_dataset['data']))) #type  of the data\n",
        "print(\"shape of dtata:{}\".format(iris_dataset['data'].shape)) #prints no.of instances and types\n",
        "print(\"first five columns of data:\\n{}\".format(iris_dataset['data'][:5])) \n",
        "print(\"type of target:{}\".format(type(iris_dataset['target'])))\n",
        "print(\"shape of target:{}\".format(iris_dataset['target'].shape))\n",
        "print(\"target :\\n{}\".format(iris_dataset['target']))"
      ],
      "execution_count": null,
      "outputs": [
        {
          "output_type": "stream",
          "text": [
            ".. _iris_dataset:\n",
            "\n",
            "Iris plants dataset\n",
            "--------------------\n",
            "\n",
            "**Data Set Characteristics:**\n",
            "\n",
            "    :Number of Instances: 150 (50 in each of three classes)\n",
            "    :Number of Attributes: 4 numeric, pre\n",
            "....\n",
            "target names:['setosa' 'versicolor' 'virginica']\n",
            "feature names: \n",
            "['sepal length (cm)', 'sepal width (cm)', 'petal length (cm)', 'petal width (cm)']\n",
            "type of data:<class 'numpy.ndarray'>\n",
            "shape of dtata:(150, 4)\n",
            "first five columns of data:\n",
            "[[5.1 3.5 1.4 0.2]\n",
            " [4.9 3.  1.4 0.2]\n",
            " [4.7 3.2 1.3 0.2]\n",
            " [4.6 3.1 1.5 0.2]\n",
            " [5.  3.6 1.4 0.2]]\n",
            "type of target:<class 'numpy.ndarray'>\n",
            "shape of target:(150,)\n",
            "target :\n",
            "[0 0 0 0 0 0 0 0 0 0 0 0 0 0 0 0 0 0 0 0 0 0 0 0 0 0 0 0 0 0 0 0 0 0 0 0 0\n",
            " 0 0 0 0 0 0 0 0 0 0 0 0 0 1 1 1 1 1 1 1 1 1 1 1 1 1 1 1 1 1 1 1 1 1 1 1 1\n",
            " 1 1 1 1 1 1 1 1 1 1 1 1 1 1 1 1 1 1 1 1 1 1 1 1 1 1 2 2 2 2 2 2 2 2 2 2 2\n",
            " 2 2 2 2 2 2 2 2 2 2 2 2 2 2 2 2 2 2 2 2 2 2 2 2 2 2 2 2 2 2 2 2 2 2 2 2 2\n",
            " 2 2]\n"
          ],
          "name": "stdout"
        }
      ]
    },
    {
      "cell_type": "markdown",
      "metadata": {
        "id": "Wa219omxSzzT"
      },
      "source": [
        "# Importing train_test_split from sklearn frame work:"
      ]
    },
    {
      "cell_type": "code",
      "metadata": {
        "id": "9W-L7aaGSzXu"
      },
      "source": [
        "from sklearn.model_selection import train_test_split"
      ],
      "execution_count": null,
      "outputs": []
    },
    {
      "cell_type": "markdown",
      "metadata": {
        "id": "8Lrm4dyWddAe"
      },
      "source": [
        "# Division of the dataset and arranging randomly:"
      ]
    },
    {
      "cell_type": "code",
      "metadata": {
        "colab": {
          "base_uri": "https://localhost:8080/"
        },
        "id": "InUrn25GTtY1",
        "outputId": "32787414-cd83-490a-b5be-bca3738b3258"
      },
      "source": [
        "X_train,X_test,y_train,y_test=train_test_split(\n",
        "    iris_dataset['data'],iris_dataset['target'],random_state=0)\n",
        "print(\"X_train shape:{}\".format(X_train.shape))\n",
        "print(\"y_train shape:{}\".format(y_train.shape))\n",
        "print(\"X_test shape:{}\".format(X_train.shape))\n",
        "print(\"y_test shape:{}\".format(y_train.shape))"
      ],
      "execution_count": null,
      "outputs": [
        {
          "output_type": "stream",
          "text": [
            "X_train shape:(112, 4)\n",
            "y_train shape:(112,)\n",
            "X_test shape:(112, 4)\n",
            "y_test shape:(112,)\n"
          ],
          "name": "stdout"
        }
      ]
    },
    {
      "cell_type": "markdown",
      "metadata": {
        "id": "zKpSpZZTVR6H"
      },
      "source": [
        "# Letting the Machine Learn:"
      ]
    },
    {
      "cell_type": "code",
      "metadata": {
        "colab": {
          "base_uri": "https://localhost:8080/"
        },
        "id": "O_ZnKC9HU-Lw",
        "outputId": "a4a0a9cc-663e-436e-9785-e1374f843221"
      },
      "source": [
        "from sklearn.neighbors import KNeighborsClassifier\n",
        "Knn=KNeighborsClassifier(n_neighbors=3)\n",
        "Knn.fit(X_train,y_train)"
      ],
      "execution_count": null,
      "outputs": [
        {
          "output_type": "execute_result",
          "data": {
            "text/plain": [
              "KNeighborsClassifier(algorithm='auto', leaf_size=30, metric='minkowski',\n",
              "                     metric_params=None, n_jobs=None, n_neighbors=3, p=2,\n",
              "                     weights='uniform')"
            ]
          },
          "metadata": {
            "tags": []
          },
          "execution_count": 7
        }
      ]
    },
    {
      "cell_type": "markdown",
      "metadata": {
        "id": "fpIvqX6SV6D7"
      },
      "source": [
        "# To make the predictions:"
      ]
    },
    {
      "cell_type": "code",
      "metadata": {
        "colab": {
          "base_uri": "https://localhost:8080/"
        },
        "id": "uYW4qL0jV47-",
        "outputId": "9ac743c3-5feb-4952-fde5-29a49f6f1c34"
      },
      "source": [
        "x_new=np.array([[5,2.9,1,0.2]])\n",
        "print(\"x_new.shape:{}\".format(x_new.shape))"
      ],
      "execution_count": null,
      "outputs": [
        {
          "output_type": "stream",
          "text": [
            "x_new.shape:(1, 4)\n"
          ],
          "name": "stdout"
        }
      ]
    },
    {
      "cell_type": "markdown",
      "metadata": {
        "id": "syRAaQm5bWHy"
      },
      "source": [
        "# To which target does data belong to(which flower):"
      ]
    },
    {
      "cell_type": "code",
      "metadata": {
        "colab": {
          "base_uri": "https://localhost:8080/"
        },
        "id": "MSy8R7XOWldC",
        "outputId": "3dda3557-24b3-4808-9f2f-32581cb278fe"
      },
      "source": [
        "prediction=Knn.predict(x_new)\n",
        "print(\"Prediction:{}\".format(prediction))\n",
        "print(\"Prediction target name:{}\".format(iris_dataset['target_names'][prediction]))"
      ],
      "execution_count": null,
      "outputs": [
        {
          "output_type": "stream",
          "text": [
            "Prediction:[0]\n",
            "Prediction target name:['setosa']\n"
          ],
          "name": "stdout"
        }
      ]
    },
    {
      "cell_type": "markdown",
      "metadata": {
        "id": "WZFq7uWtbvpy"
      },
      "source": [
        "# The accurrancy:"
      ]
    },
    {
      "cell_type": "code",
      "metadata": {
        "colab": {
          "base_uri": "https://localhost:8080/"
        },
        "id": "DDTmn-7KYBn5",
        "outputId": "ea109180-2885-4677-e257-2c7e208c24fe"
      },
      "source": [
        "y_pred=Knn.predict(X_test)\n",
        "print(\"test set predictions:\\n{}\".format(y_pred))\n",
        "print(\"test set score:{}\".format(np.mean(y_pred==y_test)))"
      ],
      "execution_count": null,
      "outputs": [
        {
          "output_type": "stream",
          "text": [
            "test set predictions:\n",
            "[2 1 0 2 0 2 0 1 1 1 2 1 1 1 1 0 1 1 0 0 2 1 0 0 2 0 0 1 1 0 2 1 0 2 2 1 0\n",
            " 2]\n",
            "test set score:0.9736842105263158\n"
          ],
          "name": "stdout"
        }
      ]
    }
  ]
}